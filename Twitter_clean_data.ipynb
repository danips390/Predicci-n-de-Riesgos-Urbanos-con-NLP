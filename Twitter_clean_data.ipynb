{
 "cells": [
  {
   "cell_type": "code",
   "execution_count": 45,
   "metadata": {},
   "outputs": [
    {
     "name": "stderr",
     "output_type": "stream",
     "text": [
      "/var/folders/8b/d34q145x44x2xf_06_gchyfw0000gq/T/ipykernel_56844/2427520541.py:50: SettingWithCopyWarning: \n",
      "A value is trying to be set on a copy of a slice from a DataFrame.\n",
      "Try using .loc[row_indexer,col_indexer] = value instead\n",
      "\n",
      "See the caveats in the documentation: https://pandas.pydata.org/pandas-docs/stable/user_guide/indexing.html#returning-a-view-versus-a-copy\n",
      "  df_tweets_clean['Texto'] = df_tweets_clean['Texto'].apply(clean_text)\n"
     ]
    }
   ],
   "source": [
    "import spacy\n",
    "import numpy as np\n",
    "import pandas as pd\n",
    "import re\n",
    "\n",
    "# Cargar modelo en español de spaCy\n",
    "nlp = spacy.load(\"es_core_news_sm\")\n",
    "\n",
    "# Lista de palabras clave\n",
    "keywords = ['lluvia', 'inundación', 'accidente', 'apagón', 'desborde', 'incendio', 'fuga']\n",
    "\n",
    "# Función para eliminar los símbolos, emoticones y links\n",
    "def clean_text(text):\n",
    "    text = re.sub(r'http\\S+|www.\\S+', '', text)\n",
    "    emoji_pattern = re.compile(\n",
    "        \"[\"\n",
    "        u\"\\U0001F600-\\U0001F64F\"  \n",
    "        u\"\\U0001F300-\\U0001F5FF\"  \n",
    "        u\"\\U0001F680-\\U0001F6FF\"  \n",
    "        u\"\\U0001F700-\\U0001F77F\"  \n",
    "        u\"\\U0001F780-\\U0001F7FF\"  \n",
    "        u\"\\U0001F800-\\U0001F8FF\"  \n",
    "        u\"\\U0001F900-\\U0001F9FF\"  \n",
    "        u\"\\U0001FA00-\\U0001FA6F\"  \n",
    "        u\"\\U0001FA70-\\U0001FAFF\"  \n",
    "        u\"\\U00002700-\\U000027BF\"  \n",
    "        u\"\\U0001F1E0-\\U0001F1FF\"  \n",
    "        \"]+\", flags=re.UNICODE\n",
    "    )\n",
    "    text = emoji_pattern.sub(r'', text)\n",
    "    text = re.sub(r'[^a-zA-ZáéíóúÁÉÍÓÚñÑüÜ\\s]', '', text)\n",
    "    text = text.lower()\n",
    "    text = re.sub(r'\\s+', ' ', text).strip()\n",
    "    return text\n",
    "\n",
    "# Función para verificar si el tweet contiene una palabra clave o sus variantes\n",
    "def contains_keyword(text, keywords, nlp):\n",
    "    doc = nlp(text)\n",
    "    lemmas = {token.lemma_ for token in doc}\n",
    "    return any(keyword in lemmas for keyword in keywords)\n",
    "\n",
    "# Cargar la base de datos\n",
    "tweets_file = \"tweets_Jun20.csv\"\n",
    "df_tweets = pd.read_csv(tweets_file)\n",
    "\n",
    "# Eliminar tweets que no tienen texto\n",
    "df_tweets_clean = df_tweets.dropna(subset=['Texto'])\n",
    "\n",
    "# Aplicar la función de limpieza a la columna de texto\n",
    "df_tweets_clean['Texto'] = df_tweets_clean['Texto'].apply(clean_text)\n",
    "\n",
    "# Filtrar los tweets que contienen una palabra clave o sus variantes\n",
    "df_tweets_filtered = df_tweets_clean[df_tweets_clean['Texto'].apply(lambda x: contains_keyword(x, keywords, nlp))]\n",
    "\n",
    "# Guardar el resultado filtrado\n",
    "df_tweets_filtered.to_csv('tweets_filtered.csv', index=False)\n"
   ]
  }
 ],
 "metadata": {
  "kernelspec": {
   "display_name": "base",
   "language": "python",
   "name": "python3"
  },
  "language_info": {
   "codemirror_mode": {
    "name": "ipython",
    "version": 3
   },
   "file_extension": ".py",
   "mimetype": "text/x-python",
   "name": "python",
   "nbconvert_exporter": "python",
   "pygments_lexer": "ipython3",
   "version": "3.9.6"
  }
 },
 "nbformat": 4,
 "nbformat_minor": 2
}
