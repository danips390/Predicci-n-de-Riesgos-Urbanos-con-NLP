{
 "cells": [
  {
   "cell_type": "code",
   "execution_count": 5,
   "metadata": {},
   "outputs": [
    {
     "name": "stderr",
     "output_type": "stream",
     "text": [
      "/var/folders/8b/d34q145x44x2xf_06_gchyfw0000gq/T/ipykernel_44110/3978088654.py:49: SettingWithCopyWarning: \n",
      "A value is trying to be set on a copy of a slice from a DataFrame.\n",
      "Try using .loc[row_indexer,col_indexer] = value instead\n",
      "\n",
      "See the caveats in the documentation: https://pandas.pydata.org/pandas-docs/stable/user_guide/indexing.html#returning-a-view-versus-a-copy\n",
      "  df_tweets_clean['Texto'] = df_tweets_clean['Texto'].apply(clean_text)\n"
     ]
    }
   ],
   "source": [
    "import numpy as np\n",
    "import pandas as pd\n",
    "import re\n",
    "\n",
    "# Función para eliminar los símbolos, emoticones y links\n",
    "def clean_text(text):\n",
    "    # Eliminar URLs\n",
    "    text = re.sub(r'http\\S+|www.\\S+', '', text)\n",
    "    \n",
    "    # Definir un patrón de regex para eliminar emoticones, símbolos y caracteres no deseados\n",
    "    emoji_pattern = re.compile(\n",
    "        \"[\"\n",
    "        u\"\\U0001F600-\\U0001F64F\"  \n",
    "        u\"\\U0001F300-\\U0001F5FF\"  \n",
    "        u\"\\U0001F680-\\U0001F6FF\"  \n",
    "        u\"\\U0001F700-\\U0001F77F\"  \n",
    "        u\"\\U0001F780-\\U0001F7FF\"  \n",
    "        u\"\\U0001F800-\\U0001F8FF\"  \n",
    "        u\"\\U0001F900-\\U0001F9FF\"  \n",
    "        u\"\\U0001FA00-\\U0001FA6F\"  \n",
    "        u\"\\U0001FA70-\\U0001FAFF\"  \n",
    "        u\"\\U00002700-\\U000027BF\"  \n",
    "        u\"\\U0001F1E0-\\U0001F1FF\"  \n",
    "        \"]+\", flags=re.UNICODE\n",
    "    )\n",
    "    \n",
    "    # Eliminar emoticones, símbolos y caracteres especiales\n",
    "    text = emoji_pattern.sub(r'', text)\n",
    "    \n",
    "    # Mantener solo letras, incluyendo acentos, y espacios (eliminar números, puntuación, símbolos matemáticos, etc.)\n",
    "    text = re.sub(r'[^a-zA-ZáéíóúÁÉÍÓÚñÑüÜ\\s]', '', text)\n",
    "    \n",
    "    # Convertir a minúsculas\n",
    "    text = text.lower()\n",
    "    \n",
    "    # Eliminar espacios extra\n",
    "    text = re.sub(r'\\s+', ' ', text).strip()\n",
    "    \n",
    "    return text\n",
    "\n",
    "# Cargar la base de datos\n",
    "tweets_file = \"tweets_Jun20.csv\"\n",
    "df_tweets = pd.read_csv(tweets_file)\n",
    "\n",
    "# Eliminar tweets que no tienen texto\n",
    "df_tweets_clean = df_tweets.dropna(subset=['Texto'])\n",
    "\n",
    "# Aplicar la función de limpieza a la columna de texto\n",
    "df_tweets_clean['Texto'] = df_tweets_clean['Texto'].apply(clean_text)\n",
    "\n",
    "# Guardar\n",
    "df_tweets_clean.to_csv('tweets_cleaned.csv', index=False)\n"
   ]
  },
  {
   "cell_type": "code",
   "execution_count": 4,
   "metadata": {},
   "outputs": [
    {
     "data": {
      "text/plain": [
       "1       cuidadodelagua sin suministro de agua en la co...\n",
       "2       serviciodeelectricidad sin servicio en a aveni...\n",
       "3       banquetaobstruida por vehículos estacionados e...\n",
       "4       transportepúblico rutas que suspenden labores ...\n",
       "5       atención sigue las recomendaciones que aquí te...\n",
       "                              ...                        \n",
       "2245    una de las mejores propuestas ciudadanas que h...\n",
       "2246    pues marthaherreranl ha hecho más cosas por nu...\n",
       "2247    otra historia registrada en mi querida av pase...\n",
       "2248                                         sannicolásnl\n",
       "2249                            y lateral tipicodeviernes\n",
       "Name: Texto, Length: 2229, dtype: object"
      ]
     },
     "execution_count": 4,
     "metadata": {},
     "output_type": "execute_result"
    }
   ],
   "source": [
    "df_tweets_clean[\"Texto\"]"
   ]
  },
  {
   "cell_type": "code",
   "execution_count": 8,
   "metadata": {},
   "outputs": [],
   "source": [
    "# Función para filtrar tweets con palabras clave y sus variantes\n",
    "def contains_keywords(text):\n",
    "    # Verificar si el texto es un string\n",
    "    if isinstance(text, str):\n",
    "        # Definir un patrón de regex para buscar las palabras clave y sus variantes\n",
    "        pattern = re.compile(r'\\b(inundacion(?:es)?|accidente(?:s)?|desborde(?:s)?|inundar(?:se|on)?|desbord(?:ar|ado|ando|amiento)|accidentado)\\b', re.IGNORECASE)\n",
    "        return bool(pattern.search(text))\n",
    "    return False\n",
    "\n",
    "\n",
    "# Filtrar los tweets que contienen las palabras clave\n",
    "df_filtered_tweets = df_tweets_clean[df_tweets_clean['Texto'].apply(contains_keywords)]\n",
    "\n",
    "# Guardar el resultado\n",
    "df_filtered_tweets.to_csv('tweets_filtered.csv', index=False)"
   ]
  }
 ],
 "metadata": {
  "kernelspec": {
   "display_name": "base",
   "language": "python",
   "name": "python3"
  },
  "language_info": {
   "codemirror_mode": {
    "name": "ipython",
    "version": 3
   },
   "file_extension": ".py",
   "mimetype": "text/x-python",
   "name": "python",
   "nbconvert_exporter": "python",
   "pygments_lexer": "ipython3",
   "version": "3.10.9"
  }
 },
 "nbformat": 4,
 "nbformat_minor": 2
}
