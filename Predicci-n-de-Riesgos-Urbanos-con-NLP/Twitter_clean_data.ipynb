{
 "cells": [
  {
   "cell_type": "code",
   "execution_count": 17,
   "metadata": {},
   "outputs": [
    {
     "name": "stderr",
     "output_type": "stream",
     "text": [
      "/var/folders/8b/d34q145x44x2xf_06_gchyfw0000gq/T/ipykernel_71386/523724659.py:51: SettingWithCopyWarning: \n",
      "A value is trying to be set on a copy of a slice from a DataFrame.\n",
      "Try using .loc[row_indexer,col_indexer] = value instead\n",
      "\n",
      "See the caveats in the documentation: https://pandas.pydata.org/pandas-docs/stable/user_guide/indexing.html#returning-a-view-versus-a-copy\n",
      "  df_tweets_clean['Texto'] = df_tweets_clean['Texto'].apply(clean_text)\n"
     ]
    }
   ],
   "source": [
    "import spacy\n",
    "import numpy as np\n",
    "import pandas as pd\n",
    "import re\n",
    "import matplotlib.pyplot as plt\n",
    "\n",
    "# Cargar modelo en español de spaCy\n",
    "nlp = spacy.load(\"es_core_news_sm\")\n",
    "\n",
    "# Lista de palabras clave\n",
    "keywords = ['lluvia', 'inundación', 'accidente', 'apagón', 'deslave', 'desborde', 'incendio', 'fuga', 'colapso']\n",
    "\n",
    "# Función para eliminar los símbolos, emoticones y links\n",
    "def clean_text(text):\n",
    "    text = re.sub(r'http\\S+|www.\\S+', '', text)\n",
    "    emoji_pattern = re.compile(\n",
    "        \"[\"\n",
    "        u\"\\U0001F600-\\U0001F64F\"  \n",
    "        u\"\\U0001F300-\\U0001F5FF\"  \n",
    "        u\"\\U0001F680-\\U0001F6FF\"  \n",
    "        u\"\\U0001F700-\\U0001F77F\"  \n",
    "        u\"\\U0001F780-\\U0001F7FF\"  \n",
    "        u\"\\U0001F800-\\U0001F8FF\"  \n",
    "        u\"\\U0001F900-\\U0001F9FF\"  \n",
    "        u\"\\U0001FA00-\\U0001FA6F\"  \n",
    "        u\"\\U0001FA70-\\U0001FAFF\"  \n",
    "        u\"\\U00002700-\\U000027BF\"  \n",
    "        u\"\\U0001F1E0-\\U0001F1FF\"  \n",
    "        \"]+\", flags=re.UNICODE\n",
    "    )\n",
    "    text = emoji_pattern.sub(r'', text)\n",
    "    text = re.sub(r'[^a-zA-ZáéíóúÁÉÍÓÚñÑüÜ\\s]', '', text)\n",
    "    text = text.lower()\n",
    "    text = re.sub(r'\\s+', ' ', text).strip()\n",
    "    return text\n",
    "\n",
    "# Función para verificar si el tweet contiene una palabra clave o sus variantes\n",
    "def contains_keyword(text, keywords, nlp):\n",
    "    doc = nlp(text)\n",
    "    lemmas = {token.lemma_ for token in doc}\n",
    "    return any(keyword in lemmas for keyword in keywords)\n",
    "\n",
    "# Cargar la base de datos\n",
    "tweets_file = \"/Users/Daniel/Documents/ITESM/Séptimo Semestre/proyecto nlp/Predicci-n-de-Riesgos-Urbanos-con-NLP/X-NLP/tweets_Jun22-1.csv\"\n",
    "df_tweets = pd.read_csv(tweets_file)\n",
    "\n",
    "# Eliminar tweets que no tienen texto\n",
    "df_tweets_clean = df_tweets.dropna(subset=['Texto'])\n",
    "\n",
    "# Aplicar la función de limpieza a la columna de texto \n",
    "df_tweets_clean['Texto'] = df_tweets_clean['Texto'].apply(clean_text)\n",
    "\n",
    "# Filtrar los tweets que contienen una palabra clave o sus variantes\n",
    "df_tweets_filtered = df_tweets_clean[df_tweets_clean['Texto'].apply(lambda x: contains_keyword(x, keywords, nlp))]\n",
    "\n",
    "# Guardar el resultado filtrado\n",
    "df_tweets_filtered.to_csv('/Users/Daniel/Documents/ITESM/Séptimo Semestre/proyecto nlp/Predicci-n-de-Riesgos-Urbanos-con-NLP/X-NLP/tweets_Jun_filtered/tweets_Jun22-1_filtered.csv', index=False)\n"
   ]
  },
  {
   "cell_type": "markdown",
   "metadata": {},
   "source": [
    "## Unificando datasets en un solo dataframe"
   ]
  },
  {
   "cell_type": "code",
   "execution_count": null,
   "metadata": {},
   "outputs": [],
   "source": [
    "import os\n",
    "import pandas as pd\n",
    "\n",
    "# Directorio donde se encuentran los CSV\n",
    "folder_path = '/Users/Daniel/Documents/ITESM/Séptimo Semestre/proyecto nlp/Predicci-n-de-Riesgos-Urbanos-con-NLP/X-NLP/tweets_Jun_filtered'\n",
    "\n",
    "# Lista para almacenar los DataFrames\n",
    "df_list = []\n",
    "\n",
    "# Iterar sobre los archivos en el directorio\n",
    "for filename in os.listdir(folder_path):\n",
    "    if filename.endswith('.csv'):\n",
    "        # Cargar cada CSV en un DataFrame y añadirlo a la lista\n",
    "        df = pd.read_csv(os.path.join(folder_path, filename))\n",
    "        df_list.append(df)\n",
    "\n",
    "# Concatenar todos los DataFrames de la lista en uno solo\n",
    "combined_df = pd.concat(df_list, ignore_index=True)\n",
    "\n",
    "# Guardar el DataFrame combinado en un nuevo archivo CSV\n",
    "combined_df.to_csv('tweets_filtered_global.csv', index=False)\n",
    "\n",
    "print('CSV combinados y guardados como archivo_combinado.csv')\n"
   ]
  },
  {
   "cell_type": "markdown",
   "metadata": {},
   "source": [
    "## Cargando dataset etiquetado para entrenar modelo"
   ]
  },
  {
   "cell_type": "code",
   "execution_count": 3,
   "metadata": {},
   "outputs": [
    {
     "data": {
      "image/png": "[encoded data removed]",
      "text/plain": [
       "<Figure size 640x480 with 1 Axes>"
      ]
     },
     "metadata": {},
     "output_type": "display_data"
    }
   ],
   "source": [
    "tweets_clean_classified = \"tweets_better_classified.csv\"\n",
    "df_tweets_clean_fil = pd.read_csv(tweets_clean_classified)\n",
    "\n",
    "tipo_counts = df_tweets_clean_fil['Tipo'].value_counts()\n",
    "\n",
    "# Creación del histograma\n",
    "tipo_counts.plot(kind='bar', color='skyblue')\n",
    "plt.xlabel('Tipo')\n",
    "plt.ylabel('Frecuencia')\n",
    "plt.title('Histograma de las clasificaciones de los tweets')\n",
    "plt.show()"
   ]
  },
  {
   "cell_type": "markdown",
   "metadata": {},
   "source": [
    "## Modelo de clasificación de tweets"
   ]
  },
  {
   "cell_type": "code",
   "execution_count": 4,
   "metadata": {},
   "outputs": [
    {
     "name": "stderr",
     "output_type": "stream",
     "text": [
      "2024-08-22 14:33:22.751161: I tensorflow/core/platform/cpu_feature_guard.cc:210] This TensorFlow binary is optimized to use available CPU instructions in performance-critical operations.\n",
      "To enable the following instructions: AVX2 FMA, in other operations, rebuild TensorFlow with the appropriate compiler flags.\n"
     ]
    }
   ],
   "source": [
    "import pandas as pd\n",
    "import numpy as np\n",
    "from sklearn.model_selection import train_test_split\n",
    "from sklearn.preprocessing import LabelEncoder\n",
    "from sklearn.metrics import classification_report\n",
    "from transformers import BertTokenizer, BertForSequenceClassification\n",
    "from transformers import Trainer, TrainingArguments\n",
    "import torch"
   ]
  },
  {
   "cell_type": "code",
   "execution_count": 21,
   "metadata": {},
   "outputs": [
    {
     "name": "stderr",
     "output_type": "stream",
     "text": [
      "Some weights of BertForSequenceClassification were not initialized from the model checkpoint at bert-base-uncased and are newly initialized: ['classifier.bias', 'classifier.weight']\n",
      "You should probably TRAIN this model on a down-stream task to be able to use it for predictions and inference.\n",
      "  3%|▎         | 10/290 [02:33<1:03:20, 13.57s/it]"
     ]
    },
    {
     "name": "stdout",
     "output_type": "stream",
     "text": [
      "{'loss': 1.3953, 'grad_norm': 7.0157151222229, 'learning_rate': 1.0000000000000002e-06, 'epoch': 0.34}\n"
     ]
    },
    {
     "name": "stderr",
     "output_type": "stream",
     "text": [
      "  7%|▋         | 20/290 [04:35<56:20, 12.52s/it]  "
     ]
    },
    {
     "name": "stdout",
     "output_type": "stream",
     "text": [
      "{'loss': 1.3574, 'grad_norm': 5.7466511726379395, 'learning_rate': 2.0000000000000003e-06, 'epoch': 0.69}\n"
     ]
    },
    {
     "name": "stderr",
     "output_type": "stream",
     "text": [
      " 10%|█         | 30/290 [06:46<1:00:48, 14.03s/it]"
     ]
    },
    {
     "name": "stdout",
     "output_type": "stream",
     "text": [
      "{'loss': 1.2974, 'grad_norm': 5.860493183135986, 'learning_rate': 3e-06, 'epoch': 1.03}\n"
     ]
    },
    {
     "name": "stderr",
     "output_type": "stream",
     "text": [
      " 14%|█▍        | 40/290 [08:56<52:14, 12.54s/it]  "
     ]
    },
    {
     "name": "stdout",
     "output_type": "stream",
     "text": [
      "{'loss': 1.2651, 'grad_norm': 4.631221294403076, 'learning_rate': 4.000000000000001e-06, 'epoch': 1.38}\n"
     ]
    },
    {
     "name": "stderr",
     "output_type": "stream",
     "text": [
      " 17%|█▋        | 50/290 [10:37<38:31,  9.63s/it]"
     ]
    },
    {
     "name": "stdout",
     "output_type": "stream",
     "text": [
      "{'loss': 1.1668, 'grad_norm': 5.944798946380615, 'learning_rate': 5e-06, 'epoch': 1.72}\n"
     ]
    },
    {
     "name": "stderr",
     "output_type": "stream",
     "text": [
      " 21%|██        | 60/290 [12:06<31:53,  8.32s/it]"
     ]
    },
    {
     "name": "stdout",
     "output_type": "stream",
     "text": [
      "{'loss': 1.1131, 'grad_norm': 5.032296657562256, 'learning_rate': 6e-06, 'epoch': 2.07}\n"
     ]
    },
    {
     "name": "stderr",
     "output_type": "stream",
     "text": [
      " 24%|██▍       | 70/290 [13:30<30:04,  8.20s/it]"
     ]
    },
    {
     "name": "stdout",
     "output_type": "stream",
     "text": [
      "{'loss': 1.0585, 'grad_norm': 5.913734436035156, 'learning_rate': 7.000000000000001e-06, 'epoch': 2.41}\n"
     ]
    },
    {
     "name": "stderr",
     "output_type": "stream",
     "text": [
      " 28%|██▊       | 80/290 [14:59<31:35,  9.02s/it]"
     ]
    },
    {
     "name": "stdout",
     "output_type": "stream",
     "text": [
      "{'loss': 0.8986, 'grad_norm': 9.699069023132324, 'learning_rate': 8.000000000000001e-06, 'epoch': 2.76}\n"
     ]
    },
    {
     "name": "stderr",
     "output_type": "stream",
     "text": [
      " 31%|███       | 90/290 [16:42<35:15, 10.58s/it]"
     ]
    },
    {
     "name": "stdout",
     "output_type": "stream",
     "text": [
      "{'loss': 0.837, 'grad_norm': 7.317883491516113, 'learning_rate': 9e-06, 'epoch': 3.1}\n"
     ]
    },
    {
     "name": "stderr",
     "output_type": "stream",
     "text": [
      " 34%|███▍      | 100/290 [18:35<37:21, 11.80s/it]"
     ]
    },
    {
     "name": "stdout",
     "output_type": "stream",
     "text": [
      "{'loss': 0.5769, 'grad_norm': 6.45604944229126, 'learning_rate': 1e-05, 'epoch': 3.45}\n"
     ]
    },
    {
     "name": "stderr",
     "output_type": "stream",
     "text": [
      " 38%|███▊      | 110/290 [20:13<27:48,  9.27s/it]"
     ]
    },
    {
     "name": "stdout",
     "output_type": "stream",
     "text": [
      "{'loss': 0.6965, 'grad_norm': 4.331139087677002, 'learning_rate': 1.1000000000000001e-05, 'epoch': 3.79}\n"
     ]
    },
    {
     "name": "stderr",
     "output_type": "stream",
     "text": [
      " 41%|████▏     | 120/290 [21:52<30:27, 10.75s/it]"
     ]
    },
    {
     "name": "stdout",
     "output_type": "stream",
     "text": [
      "{'loss': 0.4851, 'grad_norm': 5.043642520904541, 'learning_rate': 1.2e-05, 'epoch': 4.14}\n"
     ]
    },
    {
     "name": "stderr",
     "output_type": "stream",
     "text": [
      " 45%|████▍     | 130/290 [24:04<30:55, 11.60s/it]"
     ]
    },
    {
     "name": "stdout",
     "output_type": "stream",
     "text": [
      "{'loss': 0.4027, 'grad_norm': 8.691079139709473, 'learning_rate': 1.3000000000000001e-05, 'epoch': 4.48}\n"
     ]
    },
    {
     "name": "stderr",
     "output_type": "stream",
     "text": [
      " 48%|████▊     | 140/290 [25:50<26:46, 10.71s/it]"
     ]
    },
    {
     "name": "stdout",
     "output_type": "stream",
     "text": [
      "{'loss': 0.2851, 'grad_norm': 7.299295425415039, 'learning_rate': 1.4000000000000001e-05, 'epoch': 4.83}\n"
     ]
    },
    {
     "name": "stderr",
     "output_type": "stream",
     "text": [
      " 52%|█████▏    | 150/290 [27:32<21:58,  9.42s/it]"
     ]
    },
    {
     "name": "stdout",
     "output_type": "stream",
     "text": [
      "{'loss': 0.2522, 'grad_norm': 1.4599424600601196, 'learning_rate': 1.5e-05, 'epoch': 5.17}\n"
     ]
    },
    {
     "name": "stderr",
     "output_type": "stream",
     "text": [
      " 55%|█████▌    | 160/290 [29:22<25:00, 11.54s/it]"
     ]
    },
    {
     "name": "stdout",
     "output_type": "stream",
     "text": [
      "{'loss': 0.3062, 'grad_norm': 46.03864669799805, 'learning_rate': 1.6000000000000003e-05, 'epoch': 5.52}\n"
     ]
    },
    {
     "name": "stderr",
     "output_type": "stream",
     "text": [
      " 59%|█████▊    | 170/290 [30:58<17:58,  8.99s/it]"
     ]
    },
    {
     "name": "stdout",
     "output_type": "stream",
     "text": [
      "{'loss': 0.2573, 'grad_norm': 1.3611125946044922, 'learning_rate': 1.7000000000000003e-05, 'epoch': 5.86}\n"
     ]
    },
    {
     "name": "stderr",
     "output_type": "stream",
     "text": [
      " 62%|██████▏   | 180/290 [32:43<24:34, 13.41s/it]"
     ]
    },
    {
     "name": "stdout",
     "output_type": "stream",
     "text": [
      "{'loss': 0.1527, 'grad_norm': 3.0735208988189697, 'learning_rate': 1.8e-05, 'epoch': 6.21}\n"
     ]
    },
    {
     "name": "stderr",
     "output_type": "stream",
     "text": [
      " 66%|██████▌   | 190/290 [34:45<20:38, 12.38s/it]"
     ]
    },
    {
     "name": "stdout",
     "output_type": "stream",
     "text": [
      "{'loss': 0.1428, 'grad_norm': 23.158199310302734, 'learning_rate': 1.9e-05, 'epoch': 6.55}\n"
     ]
    },
    {
     "name": "stderr",
     "output_type": "stream",
     "text": [
      " 69%|██████▉   | 200/290 [36:46<19:11, 12.79s/it]"
     ]
    },
    {
     "name": "stdout",
     "output_type": "stream",
     "text": [
      "{'loss': 0.1307, 'grad_norm': 17.342056274414062, 'learning_rate': 2e-05, 'epoch': 6.9}\n"
     ]
    },
    {
     "name": "stderr",
     "output_type": "stream",
     "text": [
      " 72%|███████▏  | 210/290 [38:54<16:40, 12.51s/it]"
     ]
    },
    {
     "name": "stdout",
     "output_type": "stream",
     "text": [
      "{'loss': 0.1352, 'grad_norm': 2.19907283782959, 'learning_rate': 2.1e-05, 'epoch': 7.24}\n"
     ]
    },
    {
     "name": "stderr",
     "output_type": "stream",
     "text": [
      " 76%|███████▌  | 220/290 [40:49<13:56, 11.95s/it]"
     ]
    },
    {
     "name": "stdout",
     "output_type": "stream",
     "text": [
      "{'loss': 0.1349, 'grad_norm': 8.776962280273438, 'learning_rate': 2.2000000000000003e-05, 'epoch': 7.59}\n"
     ]
    },
    {
     "name": "stderr",
     "output_type": "stream",
     "text": [
      " 79%|███████▉  | 230/290 [42:57<12:15, 12.27s/it]"
     ]
    },
    {
     "name": "stdout",
     "output_type": "stream",
     "text": [
      "{'loss': 0.0295, 'grad_norm': 1.168062686920166, 'learning_rate': 2.3000000000000003e-05, 'epoch': 7.93}\n"
     ]
    },
    {
     "name": "stderr",
     "output_type": "stream",
     "text": [
      " 83%|████████▎ | 240/290 [44:57<09:53, 11.86s/it]"
     ]
    },
    {
     "name": "stdout",
     "output_type": "stream",
     "text": [
      "{'loss': 0.0493, 'grad_norm': 0.17350900173187256, 'learning_rate': 2.4e-05, 'epoch': 8.28}\n"
     ]
    },
    {
     "name": "stderr",
     "output_type": "stream",
     "text": [
      " 86%|████████▌ | 250/290 [47:34<09:57, 14.95s/it]"
     ]
    },
    {
     "name": "stdout",
     "output_type": "stream",
     "text": [
      "{'loss': 0.0134, 'grad_norm': 0.25442007184028625, 'learning_rate': 2.5e-05, 'epoch': 8.62}\n"
     ]
    },
    {
     "name": "stderr",
     "output_type": "stream",
     "text": [
      " 90%|████████▉ | 260/290 [50:09<06:51, 13.71s/it]"
     ]
    },
    {
     "name": "stdout",
     "output_type": "stream",
     "text": [
      "{'loss': 0.0613, 'grad_norm': 1.915924072265625, 'learning_rate': 2.6000000000000002e-05, 'epoch': 8.97}\n"
     ]
    },
    {
     "name": "stderr",
     "output_type": "stream",
     "text": [
      " 93%|█████████▎| 270/290 [52:00<03:32, 10.62s/it]"
     ]
    },
    {
     "name": "stdout",
     "output_type": "stream",
     "text": [
      "{'loss': 0.0295, 'grad_norm': 0.09153779596090317, 'learning_rate': 2.7000000000000002e-05, 'epoch': 9.31}\n"
     ]
    },
    {
     "name": "stderr",
     "output_type": "stream",
     "text": [
      " 97%|█████████▋| 280/290 [53:43<01:36,  9.64s/it]"
     ]
    },
    {
     "name": "stdout",
     "output_type": "stream",
     "text": [
      "{'loss': 0.0418, 'grad_norm': 0.14611361920833588, 'learning_rate': 2.8000000000000003e-05, 'epoch': 9.66}\n"
     ]
    },
    {
     "name": "stderr",
     "output_type": "stream",
     "text": [
      "100%|██████████| 290/290 [55:21<00:00, 11.45s/it]\n"
     ]
    },
    {
     "name": "stdout",
     "output_type": "stream",
     "text": [
      "{'loss': 0.006, 'grad_norm': 0.08057204633951187, 'learning_rate': 2.9e-05, 'epoch': 10.0}\n",
      "{'train_runtime': 3321.1603, 'train_samples_per_second': 1.394, 'train_steps_per_second': 0.087, 'train_loss': 0.5026927326516858, 'epoch': 10.0}\n"
     ]
    },
    {
     "name": "stderr",
     "output_type": "stream",
     "text": [
      "100%|██████████| 2/2 [00:10<00:00,  5.38s/it]"
     ]
    },
    {
     "name": "stdout",
     "output_type": "stream",
     "text": [
      "                 precision    recall  f1-score   support\n",
      "\n",
      "      eléctrico       0.94      0.94      0.94        17\n",
      "     inundación       0.95      1.00      0.98        21\n",
      "         lluvia       0.99      0.99      0.99        67\n",
      "no se relaciona       1.00      0.91      0.95        11\n",
      "\n",
      "       accuracy                           0.97       116\n",
      "      macro avg       0.97      0.96      0.96       116\n",
      "   weighted avg       0.97      0.97      0.97       116\n",
      "\n"
     ]
    },
    {
     "name": "stderr",
     "output_type": "stream",
     "text": [
      "\n"
     ]
    }
   ],
   "source": [
    "# Cargar el dataset\n",
    "df = pd.read_csv(\"tweets_better_classified.csv\")\n",
    "\n",
    "# Preprocesar las etiquetas\n",
    "label_encoder = LabelEncoder()\n",
    "df['label'] = label_encoder.fit_transform(df['Tipo'])  # Ajusta 'categoria' a la columna correspondiente\n",
    "\n",
    "# Dividir el dataset en entrenamiento y prueba\n",
    "train, test = train_test_split(df, test_size=0.2, random_state=42)\n",
    "\n",
    "# Inicializar el tokenizer BERT\n",
    "tokenizer = BertTokenizer.from_pretrained(\"bert-base-uncased\")\n",
    "\n",
    "# Función para tokenizar los textos\n",
    "def tokenize_function(examples):\n",
    "    return tokenizer(examples['Texto'], padding=\"max_length\", truncation=True, max_length=128)\n",
    "\n",
    "# Aplicar el tokenizer a los datos de entrenamiento y prueba\n",
    "train_encodings = tokenizer(list(train['Texto'].values), truncation=True, padding=True, max_length=128)\n",
    "test_encodings = tokenizer(list(test['Texto'].values), truncation=True, padding=True, max_length=128)\n",
    "\n",
    "# Convertir las etiquetas en tensores\n",
    "train_labels = torch.tensor(train['label'].values)\n",
    "test_labels = torch.tensor(test['label'].values)\n",
    "\n",
    "# Crear un dataset personalizado\n",
    "class TweetDataset(torch.utils.data.Dataset):\n",
    "    def __init__(self, encodings, labels):\n",
    "        self.encodings = encodings\n",
    "        self.labels = labels\n",
    "\n",
    "    def __getitem__(self, idx):\n",
    "        item = {key: torch.tensor(val[idx]) for key, val in self.encodings.items()}\n",
    "        item['labels'] = self.labels[idx]\n",
    "        return item\n",
    "\n",
    "    def __len__(self):\n",
    "        return len(self.labels)\n",
    "\n",
    "train_dataset = TweetDataset(train_encodings, train_labels)\n",
    "test_dataset = TweetDataset(test_encodings, test_labels)\n",
    "\n",
    "# Cargar el modelo BERT para clasificación de secuencias\n",
    "model = BertForSequenceClassification.from_pretrained(\"bert-base-uncased\", num_labels=4)  \n",
    "\n",
    "# Definir los argumentos del entrenamiento\n",
    "training_args = TrainingArguments(\n",
    "    output_dir='./results',          # Directorio para guardar los resultados\n",
    "    num_train_epochs=10,              # Número de épocas\n",
    "    per_device_train_batch_size=16,  # Tamaño del lote en entrenamiento\n",
    "    per_device_eval_batch_size=64,   # Tamaño del lote en evaluación\n",
    "    warmup_steps=500,                # Número de pasos para warmup\n",
    "    weight_decay=0.01,               # Tasa de decaimiento del peso\n",
    "    logging_dir='./logs',            # Directorio para guardar los logs\n",
    "    logging_steps=10,\n",
    ")\n",
    "\n",
    "# Crear el Trainer\n",
    "trainer = Trainer(\n",
    "    model=model,\n",
    "    args=training_args,\n",
    "    train_dataset=train_dataset,\n",
    "    eval_dataset=test_dataset,\n",
    ")\n",
    "\n",
    "# Entrenar el modelo\n",
    "trainer.train()\n",
    "\n",
    "# Evaluar el modelo\n",
    "predictions = trainer.predict(test_dataset)\n",
    "preds = np.argmax(predictions.predictions, axis=1)\n",
    "\n",
    "# Reporte de clasificación\n",
    "print(classification_report(test_labels, preds, target_names=label_encoder.classes_))\n"
   ]
  },
  {
   "cell_type": "markdown",
   "metadata": {},
   "source": [
    "# Guardando Modelo entrenado"
   ]
  },
  {
   "cell_type": "code",
   "execution_count": 7,
   "metadata": {},
   "outputs": [
    {
     "data": {
      "text/plain": [
       "('./my_model/tokenizer_config.json',\n",
       " './my_model/special_tokens_map.json',\n",
       " './my_model/vocab.txt',\n",
       " './my_model/added_tokens.json')"
      ]
     },
     "execution_count": 7,
     "metadata": {},
     "output_type": "execute_result"
    }
   ],
   "source": [
    "model.save_pretrained('./my_model')\n",
    "tokenizer.save_pretrained('./my_model')"
   ]
  },
  {
   "cell_type": "markdown",
   "metadata": {},
   "source": [
    "## Cargando modelo y clasificando"
   ]
  },
  {
   "cell_type": "code",
   "execution_count": 20,
   "metadata": {},
   "outputs": [
    {
     "name": "stdout",
     "output_type": "stream",
     "text": [
      "Archivo 'tweets_classified.csv' guardado con las etiquetas predichas.\n"
     ]
    }
   ],
   "source": [
    "from transformers import BertTokenizer, BertForSequenceClassification\n",
    "import torch\n",
    "from sklearn.preprocessing import LabelEncoder\n",
    "import pandas as pd\n",
    "\n",
    "# Cargar el tokenizador y el modelo\n",
    "tokenizer = BertTokenizer.from_pretrained('./my_model')\n",
    "model = BertForSequenceClassification.from_pretrained('./my_model')\n",
    "\n",
    "# Cargar el LabelEncoder (Asegúrate de que es el mismo usado durante el entrenamiento)\n",
    "df_original = pd.read_csv(\"tweets_better_classified.csv\")  # Dataset original para recuperar las etiquetas\n",
    "label_encoder = LabelEncoder()\n",
    "label_encoder.fit(df_original['Tipo'])  # Ajusta 'Tipo' a la columna de etiquetas original\n",
    "\n",
    "# Cargar el dataset filtrado\n",
    "df_filtered = pd.read_csv(\"tweets_filtered_global.csv\")\n",
    "\n",
    "# Define una función para predecir nuevos textos\n",
    "def predict_new_text(text):\n",
    "    # Tokenizar el texto\n",
    "    inputs = tokenizer(text, return_tensors=\"pt\", truncation=True, padding=True, max_length=128)\n",
    "\n",
    "    # Asegúrate de mover el modelo y los inputs a la GPU si está disponible\n",
    "    device = torch.device('cuda') if torch.cuda.is_available() else torch.device('cpu')\n",
    "    model.to(device)\n",
    "    inputs = {key: val.to(device) for key, val in inputs.items()}\n",
    "\n",
    "    # Hacer la predicción\n",
    "    model.eval()\n",
    "    with torch.no_grad():\n",
    "        outputs = model(**inputs)\n",
    "        logits = outputs.logits\n",
    "\n",
    "    # Obtener la clase predicha\n",
    "    predicted_class = torch.argmax(logits, dim=1).item()\n",
    "\n",
    "    # Decodificar la etiqueta predicha\n",
    "    predicted_label = label_encoder.inverse_transform([predicted_class])\n",
    "\n",
    "    return predicted_label[0]\n",
    "\n",
    "# Predecir etiquetas para la columna 'texto' y almacenarlas en una nueva columna 'Tipo'\n",
    "df_filtered['Tipo'] = df_filtered['Texto'].apply(predict_new_text)\n",
    "\n",
    "# Guardar el nuevo DataFrame en un archivo CSV\n",
    "df_filtered.to_csv(\"tweets_classified.csv\", index=False)\n",
    "\n",
    "print(\"Archivo 'tweets_classified.csv' guardado con las etiquetas predichas.\")\n"
   ]
  },
  {
   "cell_type": "code",
   "execution_count": 23,
   "metadata": {},
   "outputs": [
    {
     "data": {
      "image/png": "[encoded data removed]",
      "text/plain": [
       "<Figure size 640x480 with 1 Axes>"
      ]
     },
     "metadata": {},
     "output_type": "display_data"
    }
   ],
   "source": [
    "tweets_clean_classified = \"tweets_classified.csv\"\n",
    "df_tweets_clean_fil = pd.read_csv(tweets_clean_classified)\n",
    "\n",
    "tipo_counts = df_tweets_clean_fil['Tipo'].value_counts()\n",
    "\n",
    "# Creación del histograma\n",
    "tipo_counts.plot(kind='bar', color='skyblue')\n",
    "plt.xlabel('Clasificación')\n",
    "plt.ylabel('Frecuencia')\n",
    "plt.title('Clasificaciones de los tweets')\n",
    "plt.grid()\n",
    "plt.show()"
   ]
  },
  {
   "cell_type": "code",
   "execution_count": 31,
   "metadata": {},
   "outputs": [],
   "source": [
    "classified = pd.read_csv('tweets_classified.csv')\n",
    "classified=classified[['Texto', 'Tipo']]"
   ]
  }
 ],
 "metadata": {
  "kernelspec": {
   "display_name": "base",
   "language": "python",
   "name": "python3"
  },
  "language_info": {
   "codemirror_mode": {
    "name": "ipython",
    "version": 3
   },
   "file_extension": ".py",
   "mimetype": "text/x-python",
   "name": "python",
   "nbconvert_exporter": "python",
   "pygments_lexer": "ipython3",
   "version": "3.9.6"
  }
 },
 "nbformat": 4,
 "nbformat_minor": 2
}
